{
 "cells": [
  {
   "cell_type": "code",
   "execution_count": 1,
   "id": "777090e9",
   "metadata": {},
   "outputs": [
    {
     "name": "stdout",
     "output_type": "stream",
     "text": [
      "Requirement already satisfied: openai in c:\\users\\dell\\anaconda3\\lib\\site-packages (1.17.1)\n",
      "Requirement already satisfied: anyio<5,>=3.5.0 in c:\\users\\dell\\anaconda3\\lib\\site-packages (from openai) (3.5.0)\n",
      "Requirement already satisfied: distro<2,>=1.7.0 in c:\\users\\dell\\anaconda3\\lib\\site-packages (from openai) (1.9.0)\n",
      "Requirement already satisfied: httpx<1,>=0.23.0 in c:\\users\\dell\\anaconda3\\lib\\site-packages (from openai) (0.27.0)\n",
      "Requirement already satisfied: pydantic<3,>=1.9.0 in c:\\users\\dell\\anaconda3\\lib\\site-packages (from openai) (1.10.8)\n",
      "Requirement already satisfied: sniffio in c:\\users\\dell\\anaconda3\\lib\\site-packages (from openai) (1.2.0)\n",
      "Requirement already satisfied: tqdm>4 in c:\\users\\dell\\anaconda3\\lib\\site-packages (from openai) (4.65.0)\n",
      "Requirement already satisfied: typing-extensions<5,>=4.7 in c:\\users\\dell\\anaconda3\\lib\\site-packages (from openai) (4.11.0)\n",
      "Requirement already satisfied: idna>=2.8 in c:\\users\\dell\\anaconda3\\lib\\site-packages (from anyio<5,>=3.5.0->openai) (3.4)\n",
      "Requirement already satisfied: certifi in c:\\users\\dell\\anaconda3\\lib\\site-packages (from httpx<1,>=0.23.0->openai) (2023.7.22)\n",
      "Requirement already satisfied: httpcore==1.* in c:\\users\\dell\\anaconda3\\lib\\site-packages (from httpx<1,>=0.23.0->openai) (1.0.5)\n",
      "Requirement already satisfied: h11<0.15,>=0.13 in c:\\users\\dell\\anaconda3\\lib\\site-packages (from httpcore==1.*->httpx<1,>=0.23.0->openai) (0.14.0)\n",
      "Requirement already satisfied: colorama in c:\\users\\dell\\anaconda3\\lib\\site-packages (from tqdm>4->openai) (0.4.6)\n"
     ]
    }
   ],
   "source": [
    "!pip install openai"
   ]
  },
  {
   "cell_type": "code",
   "execution_count": 2,
   "id": "c76fc12c",
   "metadata": {},
   "outputs": [],
   "source": [
    "from openai import OpenAI\n",
    "import streamlit as st\n",
    "import os"
   ]
  },
  {
   "cell_type": "code",
   "execution_count": 3,
   "id": "9930c244",
   "metadata": {},
   "outputs": [
    {
     "name": "stdout",
     "output_type": "stream",
     "text": [
      "C:\\Users\\DELL\\Music\\Code Reviewer\n"
     ]
    }
   ],
   "source": [
    "cd C:\\Users\\DELL\\Music\\Code Reviewer\n"
   ]
  },
  {
   "cell_type": "code",
   "execution_count": 4,
   "id": "aa598a5c",
   "metadata": {},
   "outputs": [],
   "source": [
    "current_directory = os.getcwd()\n",
    "\n",
    "# Define the path to the API key file\n",
    "api_key_file = os.path.join(current_directory, \"keys\", \"api_key.txt\")"
   ]
  },
  {
   "cell_type": "code",
   "execution_count": 5,
   "id": "6b1422d4",
   "metadata": {},
   "outputs": [],
   "source": [
    "# Check if the API key file exists\n",
    "if os.path.exists(api_key_file):\n",
    "    # Read the API key from the file\n",
    "    with open(api_key_file) as f:\n",
    "        key = f.read().strip()  # Strip any leading/trailing whitespaces\n",
    "    \n",
    "    # Set OpenAI API key\n",
    "    OpenAI.api_key = key\n",
    "else:\n",
    "    st.error(\"API key file not found. Please make sure the API key file exists in the 'keys' directory.\")"
   ]
  },
  {
   "cell_type": "code",
   "execution_count": 6,
   "id": "bbff008d",
   "metadata": {},
   "outputs": [],
   "source": [
    "def fix_code(language, code):\n",
    "    prompt = f\"Fix this {language} code {code}\"\n",
    "    response = client.chat.completions.create(\n",
    "        model=\"gpt-3.5-turbo-16k-0613\",\n",
    "        messages=[\n",
    "            {\"role\": \"system\", \"content\": \"You are a helpful code assistant.\"},\n",
    "            {\"role\": \"user\", \"content\": prompt}\n",
    "        ]\n",
    "    )\n",
    "    response = response.choices[0].message.content\n",
    "    print(response)\n",
    "    return response\n"
   ]
  },
  {
   "cell_type": "code",
   "execution_count": 7,
   "id": "8855a83e",
   "metadata": {},
   "outputs": [],
   "source": [
    "def main():\n",
    "    st.title(\"An AI Code Analyzer\")\n",
    "\n",
    "    code = st.text_area(\"Please enter your code here\", height=300)\n",
    "    language = st.selectbox(\"Select your language\", (\"Python\", \"JavaScript\", \"Java\", \"C#\", \"C\", \"C++\", \"Ruby\",))\n",
    "\n",
    "    if st.button(\"Generate\"):\n",
    "        if code.strip():\n",
    "            fixed_code = fix_code(language, code)\n",
    "            st.subheader(\"Code Analysis\")\n",
    "            if fixed_code:\n",
    "                st.write(fixed_code)\n",
    "            else:\n",
    "                st.success(\"No issues found. The code is bug free.\")\n",
    "        else:\n",
    "            st.error(\"Please enter some code before generating.\")\n",
    "\n",
    "\n",
    "    main()\n"
   ]
  },
  {
   "cell_type": "code",
   "execution_count": null,
   "id": "2b268736",
   "metadata": {},
   "outputs": [],
   "source": [
    "!streamlit run ai.py\n"
   ]
  },
  {
   "cell_type": "code",
   "execution_count": null,
   "id": "35bfcb80",
   "metadata": {},
   "outputs": [],
   "source": []
  }
 ],
 "metadata": {
  "kernelspec": {
   "display_name": "Python 3 (ipykernel)",
   "language": "python",
   "name": "python3"
  },
  "language_info": {
   "codemirror_mode": {
    "name": "ipython",
    "version": 3
   },
   "file_extension": ".py",
   "mimetype": "text/x-python",
   "name": "python",
   "nbconvert_exporter": "python",
   "pygments_lexer": "ipython3",
   "version": "3.11.5"
  }
 },
 "nbformat": 4,
 "nbformat_minor": 5
}
